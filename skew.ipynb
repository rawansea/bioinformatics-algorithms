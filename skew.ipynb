{
  "cells": [
    {
      "cell_type": "code",
      "execution_count": null,
      "metadata": {
        "colab": {
          "base_uri": "https://localhost:8080/"
        },
        "id": "SkgCsgiBADRf",
        "outputId": "7cf80db0-f791-4426-f053-7326c977b72b"
      },
      "outputs": [
        {
          "name": "stdout",
          "output_type": "stream",
          "text": [
            "Positions with minimum skew: [3923620, 3923621, 3923622, 3923623]\n",
            "\n",
            "\n",
            "Most frequent patterns in Ori: ['AAAGGATC', 'AAGGATCC', 'AGGATCCG', 'GGATCCGG', 'CTGGGATC', 'GATCCTGG', 'GATCGCAC', 'TGGATAAC']\n"
          ]
        }
      ],
      "source": [
        "# Rawan Abu Alkhayr\n",
        "\n",
        "# Part 2. b & c\n",
        "# Part 2.b: Solve the Frequent Words Problem. \n",
        "# The problem formulation for Frequent Words is as follows:\n",
        "# •\tInput: A DNA string Genome\n",
        "# •\tOutput: All integer(s) i minimizing Skewi(Genome) among all values of i (from 0 to |Genome|).\n",
        "\n",
        "# Part 2.c: find the frequent pattern in the Ori returned by part 2.b\n",
        "\n",
        "# source: https://stackoverflow.com/questions/38582143/runtime-too-long-for-gc-skew\n",
        "\n",
        "\n",
        "import collections\n",
        "\n",
        "# read the file\n",
        "with open(\"E_coli.txt\", 'r') as file:\n",
        "    genome = file.read().strip()\n",
        "\n",
        "\n",
        "# find the list of positions where the skew is minimized\n",
        "def find_min_skew_pos(genome):\n",
        "    skew = 0\n",
        "    min_skew = 0 # minimum skew value\n",
        "    min_pos = [] # list to store positions with the minimum skew\n",
        "\n",
        "    for i, nucleotide in enumerate(genome):\n",
        "        if nucleotide == 'G':\n",
        "            skew += 1  # Increase skew\n",
        "        elif nucleotide == 'C':\n",
        "            skew -= 1 # Decrease skew\n",
        "\n",
        "        # update the list with the minimum skew position\n",
        "        if skew < min_skew:\n",
        "            min_skew = skew\n",
        "            min_pos = [i + 1]\n",
        "        elif skew == min_skew:\n",
        "            min_pos.append(i + 1)\n",
        "\n",
        "    return min_pos # return the list\n",
        "\n",
        "# find the most frequent k-mers in a given text\n",
        "def FrequentWords(Text, k):\n",
        "    count = {} # dictionary to store\n",
        "    # loop through the text\n",
        "    for i in range(len(Text) - k + 1):\n",
        "        Pattern = Text[i: i + k]\n",
        "        if Pattern in count:\n",
        "            count[Pattern] += 1     # already exist +1\n",
        "        else:\n",
        "            count[Pattern] = 1     # first time to see 1\n",
        "\n",
        "    # find k-mers with the highest frequency\n",
        "    max_count = max(count.values())\n",
        "    FrequentPatterns = []\n",
        "    for pattern, freq in count.items():\n",
        "        if freq == max_count:\n",
        "            FrequentPatterns.append(pattern)\n",
        "\n",
        "    return FrequentPatterns\n",
        "\n",
        "# part 2. b\n",
        "# show the positions with minimum skew\n",
        "\n",
        "Positions = find_min_skew_pos(genome)\n",
        "print(\"Positions with minimum skew:\", Positions)\n",
        "\n",
        "print(\"\\n\")\n",
        "\n",
        "# part 2. c\n",
        "# find the frequent pattern in the Ori\n",
        "ori_start = Positions[0]  # starts at the first minimum skew\n",
        "ori = genome[ori_start:ori_start + 500] # window size\n",
        "k = 8  # length of k-mers\n",
        "frequent_kmers = FrequentWords(ori, k)\n",
        "print(\"Most frequent patterns in Ori:\", frequent_kmers)\n"
      ]
    }
  ],
  "metadata": {
    "colab": {
      "provenance": []
    },
    "kernelspec": {
      "display_name": "Python 3",
      "name": "python3"
    },
    "language_info": {
      "name": "python"
    }
  },
  "nbformat": 4,
  "nbformat_minor": 0
}
